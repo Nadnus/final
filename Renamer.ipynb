{
 "cells": [
  {
   "cell_type": "code",
   "execution_count": 17,
   "metadata": {},
   "outputs": [],
   "source": [
    "import os\n",
    "\n",
    "directory = \"./nuestra_version/with_mask_raw\"\n",
    "target = \"./nuestra_version/with_mask\"\n",
    "\n",
    "for count, filename in enumerate(os.listdir(directory)):\n",
    "    dst = target +\"/\" + str(count) + \"-with-mask.jpg\" \n",
    "    src = directory + \"/\" + filename\n",
    "#     print(dst,\"<=\",src)\n",
    "    os.rename(src,dst)"
   ]
  }
 ],
 "metadata": {
  "kernelspec": {
   "display_name": "Python 3",
   "language": "python",
   "name": "python3"
  },
  "language_info": {
   "codemirror_mode": {
    "name": "ipython",
    "version": 3
   },
   "file_extension": ".py",
   "mimetype": "text/x-python",
   "name": "python",
   "nbconvert_exporter": "python",
   "pygments_lexer": "ipython3",
   "version": "3.8.5"
  }
 },
 "nbformat": 4,
 "nbformat_minor": 4
}
